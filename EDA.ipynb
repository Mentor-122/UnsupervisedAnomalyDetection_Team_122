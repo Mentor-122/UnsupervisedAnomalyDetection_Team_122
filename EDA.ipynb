{
 "cells": [
  {
   "cell_type": "code",
   "execution_count": 1,
   "id": "930d3ffa",
   "metadata": {},
   "outputs": [],
   "source": [
    "import numpy as np\n",
    "import pandas as pd\n",
    "import seaborn as sns\n",
    "import matplotlib.pyplot as plt\n",
    "import matplotlib.gridspec as gridspec"
   ]
  },
  {
   "cell_type": "code",
   "execution_count": 2,
   "id": "b4215e48",
   "metadata": {},
   "outputs": [],
   "source": [
    "df = pd.read_csv(\"Healthcare Providers.csv\")"
   ]
  },
  {
   "cell_type": "code",
   "execution_count": 3,
   "id": "da65264a",
   "metadata": {},
   "outputs": [
    {
     "data": {
      "text/html": [
       "<div>\n",
       "<style scoped>\n",
       "    .dataframe tbody tr th:only-of-type {\n",
       "        vertical-align: middle;\n",
       "    }\n",
       "\n",
       "    .dataframe tbody tr th {\n",
       "        vertical-align: top;\n",
       "    }\n",
       "\n",
       "    .dataframe thead th {\n",
       "        text-align: right;\n",
       "    }\n",
       "</style>\n",
       "<table border=\"1\" class=\"dataframe\">\n",
       "  <thead>\n",
       "    <tr style=\"text-align: right;\">\n",
       "      <th></th>\n",
       "      <th>index</th>\n",
       "      <th>National Provider Identifier</th>\n",
       "      <th>Last Name/Organization Name of the Provider</th>\n",
       "      <th>First Name of the Provider</th>\n",
       "      <th>Middle Initial of the Provider</th>\n",
       "      <th>Credentials of the Provider</th>\n",
       "      <th>Gender of the Provider</th>\n",
       "      <th>Entity Type of the Provider</th>\n",
       "      <th>Street Address 1 of the Provider</th>\n",
       "      <th>Street Address 2 of the Provider</th>\n",
       "      <th>...</th>\n",
       "      <th>HCPCS Code</th>\n",
       "      <th>HCPCS Description</th>\n",
       "      <th>HCPCS Drug Indicator</th>\n",
       "      <th>Number of Services</th>\n",
       "      <th>Number of Medicare Beneficiaries</th>\n",
       "      <th>Number of Distinct Medicare Beneficiary/Per Day Services</th>\n",
       "      <th>Average Medicare Allowed Amount</th>\n",
       "      <th>Average Submitted Charge Amount</th>\n",
       "      <th>Average Medicare Payment Amount</th>\n",
       "      <th>Average Medicare Standardized Amount</th>\n",
       "    </tr>\n",
       "  </thead>\n",
       "  <tbody>\n",
       "    <tr>\n",
       "      <th>0</th>\n",
       "      <td>8774979</td>\n",
       "      <td>1891106191</td>\n",
       "      <td>UPADHYAYULA</td>\n",
       "      <td>SATYASREE</td>\n",
       "      <td>NaN</td>\n",
       "      <td>M.D.</td>\n",
       "      <td>F</td>\n",
       "      <td>I</td>\n",
       "      <td>1402 S GRAND BLVD</td>\n",
       "      <td>FDT 14TH FLOOR</td>\n",
       "      <td>...</td>\n",
       "      <td>99223</td>\n",
       "      <td>Initial hospital inpatient care, typically 70 ...</td>\n",
       "      <td>N</td>\n",
       "      <td>27</td>\n",
       "      <td>24</td>\n",
       "      <td>27</td>\n",
       "      <td>200.58777778</td>\n",
       "      <td>305.21111111</td>\n",
       "      <td>157.26222222</td>\n",
       "      <td>160.90888889</td>\n",
       "    </tr>\n",
       "    <tr>\n",
       "      <th>1</th>\n",
       "      <td>3354385</td>\n",
       "      <td>1346202256</td>\n",
       "      <td>JONES</td>\n",
       "      <td>WENDY</td>\n",
       "      <td>P</td>\n",
       "      <td>M.D.</td>\n",
       "      <td>F</td>\n",
       "      <td>I</td>\n",
       "      <td>2950 VILLAGE DR</td>\n",
       "      <td>NaN</td>\n",
       "      <td>...</td>\n",
       "      <td>G0202</td>\n",
       "      <td>Screening mammography, bilateral (2-view study...</td>\n",
       "      <td>N</td>\n",
       "      <td>175</td>\n",
       "      <td>175</td>\n",
       "      <td>175</td>\n",
       "      <td>123.73</td>\n",
       "      <td>548.8</td>\n",
       "      <td>118.83</td>\n",
       "      <td>135.31525714</td>\n",
       "    </tr>\n",
       "    <tr>\n",
       "      <th>2</th>\n",
       "      <td>3001884</td>\n",
       "      <td>1306820956</td>\n",
       "      <td>DUROCHER</td>\n",
       "      <td>RICHARD</td>\n",
       "      <td>W</td>\n",
       "      <td>DPM</td>\n",
       "      <td>M</td>\n",
       "      <td>I</td>\n",
       "      <td>20 WASHINGTON AVE</td>\n",
       "      <td>STE 212</td>\n",
       "      <td>...</td>\n",
       "      <td>99348</td>\n",
       "      <td>Established patient home visit, typically 25 m...</td>\n",
       "      <td>N</td>\n",
       "      <td>32</td>\n",
       "      <td>13</td>\n",
       "      <td>32</td>\n",
       "      <td>90.65</td>\n",
       "      <td>155</td>\n",
       "      <td>64.4396875</td>\n",
       "      <td>60.5959375</td>\n",
       "    </tr>\n",
       "    <tr>\n",
       "      <th>3</th>\n",
       "      <td>7594822</td>\n",
       "      <td>1770523540</td>\n",
       "      <td>FULLARD</td>\n",
       "      <td>JASPER</td>\n",
       "      <td>NaN</td>\n",
       "      <td>MD</td>\n",
       "      <td>M</td>\n",
       "      <td>I</td>\n",
       "      <td>5746 N BROADWAY ST</td>\n",
       "      <td>NaN</td>\n",
       "      <td>...</td>\n",
       "      <td>81002</td>\n",
       "      <td>Urinalysis, manual test</td>\n",
       "      <td>N</td>\n",
       "      <td>20</td>\n",
       "      <td>18</td>\n",
       "      <td>20</td>\n",
       "      <td>3.5</td>\n",
       "      <td>5</td>\n",
       "      <td>3.43</td>\n",
       "      <td>3.43</td>\n",
       "    </tr>\n",
       "    <tr>\n",
       "      <th>4</th>\n",
       "      <td>746159</td>\n",
       "      <td>1073627758</td>\n",
       "      <td>PERROTTI</td>\n",
       "      <td>ANTHONY</td>\n",
       "      <td>E</td>\n",
       "      <td>DO</td>\n",
       "      <td>M</td>\n",
       "      <td>I</td>\n",
       "      <td>875 MILITARY TRL</td>\n",
       "      <td>SUITE 200</td>\n",
       "      <td>...</td>\n",
       "      <td>96372</td>\n",
       "      <td>Injection beneath the skin or into muscle for ...</td>\n",
       "      <td>N</td>\n",
       "      <td>33</td>\n",
       "      <td>24</td>\n",
       "      <td>31</td>\n",
       "      <td>26.52</td>\n",
       "      <td>40</td>\n",
       "      <td>19.539393939</td>\n",
       "      <td>19.057575758</td>\n",
       "    </tr>\n",
       "  </tbody>\n",
       "</table>\n",
       "<p>5 rows × 27 columns</p>\n",
       "</div>"
      ],
      "text/plain": [
       "     index  National Provider Identifier  \\\n",
       "0  8774979                    1891106191   \n",
       "1  3354385                    1346202256   \n",
       "2  3001884                    1306820956   \n",
       "3  7594822                    1770523540   \n",
       "4   746159                    1073627758   \n",
       "\n",
       "  Last Name/Organization Name of the Provider First Name of the Provider  \\\n",
       "0                                 UPADHYAYULA                  SATYASREE   \n",
       "1                                       JONES                      WENDY   \n",
       "2                                    DUROCHER                    RICHARD   \n",
       "3                                     FULLARD                     JASPER   \n",
       "4                                    PERROTTI                    ANTHONY   \n",
       "\n",
       "  Middle Initial of the Provider Credentials of the Provider  \\\n",
       "0                            NaN                        M.D.   \n",
       "1                              P                        M.D.   \n",
       "2                              W                         DPM   \n",
       "3                            NaN                          MD   \n",
       "4                              E                          DO   \n",
       "\n",
       "  Gender of the Provider Entity Type of the Provider  \\\n",
       "0                      F                           I   \n",
       "1                      F                           I   \n",
       "2                      M                           I   \n",
       "3                      M                           I   \n",
       "4                      M                           I   \n",
       "\n",
       "  Street Address 1 of the Provider Street Address 2 of the Provider  ...  \\\n",
       "0                1402 S GRAND BLVD                   FDT 14TH FLOOR  ...   \n",
       "1                  2950 VILLAGE DR                              NaN  ...   \n",
       "2                20 WASHINGTON AVE                          STE 212  ...   \n",
       "3               5746 N BROADWAY ST                              NaN  ...   \n",
       "4                 875 MILITARY TRL                        SUITE 200  ...   \n",
       "\n",
       "  HCPCS Code                                  HCPCS Description  \\\n",
       "0      99223  Initial hospital inpatient care, typically 70 ...   \n",
       "1      G0202  Screening mammography, bilateral (2-view study...   \n",
       "2      99348  Established patient home visit, typically 25 m...   \n",
       "3      81002                            Urinalysis, manual test   \n",
       "4      96372  Injection beneath the skin or into muscle for ...   \n",
       "\n",
       "  HCPCS Drug Indicator Number of Services Number of Medicare Beneficiaries  \\\n",
       "0                    N                 27                               24   \n",
       "1                    N                175                              175   \n",
       "2                    N                 32                               13   \n",
       "3                    N                 20                               18   \n",
       "4                    N                 33                               24   \n",
       "\n",
       "  Number of Distinct Medicare Beneficiary/Per Day Services  \\\n",
       "0                                                 27         \n",
       "1                                                175         \n",
       "2                                                 32         \n",
       "3                                                 20         \n",
       "4                                                 31         \n",
       "\n",
       "  Average Medicare Allowed Amount Average Submitted Charge Amount  \\\n",
       "0                    200.58777778                    305.21111111   \n",
       "1                          123.73                           548.8   \n",
       "2                           90.65                             155   \n",
       "3                             3.5                               5   \n",
       "4                           26.52                              40   \n",
       "\n",
       "  Average Medicare Payment Amount Average Medicare Standardized Amount  \n",
       "0                    157.26222222                         160.90888889  \n",
       "1                          118.83                         135.31525714  \n",
       "2                      64.4396875                           60.5959375  \n",
       "3                            3.43                                 3.43  \n",
       "4                    19.539393939                         19.057575758  \n",
       "\n",
       "[5 rows x 27 columns]"
      ]
     },
     "execution_count": 3,
     "metadata": {},
     "output_type": "execute_result"
    }
   ],
   "source": [
    "df.head()"
   ]
  },
  {
   "cell_type": "code",
   "execution_count": 4,
   "id": "19e7ddfb",
   "metadata": {},
   "outputs": [
    {
     "data": {
      "text/plain": [
       "Index(['index', 'National Provider Identifier',\n",
       "       'Last Name/Organization Name of the Provider',\n",
       "       'First Name of the Provider', 'Middle Initial of the Provider',\n",
       "       'Credentials of the Provider', 'Gender of the Provider',\n",
       "       'Entity Type of the Provider', 'Street Address 1 of the Provider',\n",
       "       'Street Address 2 of the Provider', 'City of the Provider',\n",
       "       'Zip Code of the Provider', 'State Code of the Provider',\n",
       "       'Country Code of the Provider', 'Provider Type',\n",
       "       'Medicare Participation Indicator', 'Place of Service', 'HCPCS Code',\n",
       "       'HCPCS Description', 'HCPCS Drug Indicator', 'Number of Services',\n",
       "       'Number of Medicare Beneficiaries',\n",
       "       'Number of Distinct Medicare Beneficiary/Per Day Services',\n",
       "       'Average Medicare Allowed Amount', 'Average Submitted Charge Amount',\n",
       "       'Average Medicare Payment Amount',\n",
       "       'Average Medicare Standardized Amount'],\n",
       "      dtype='object')"
      ]
     },
     "execution_count": 4,
     "metadata": {},
     "output_type": "execute_result"
    }
   ],
   "source": [
    "df.columns"
   ]
  },
  {
   "cell_type": "code",
   "execution_count": 5,
   "id": "56bfdf24",
   "metadata": {},
   "outputs": [
    {
     "data": {
      "text/html": [
       "<div>\n",
       "<style scoped>\n",
       "    .dataframe tbody tr th:only-of-type {\n",
       "        vertical-align: middle;\n",
       "    }\n",
       "\n",
       "    .dataframe tbody tr th {\n",
       "        vertical-align: top;\n",
       "    }\n",
       "\n",
       "    .dataframe thead th {\n",
       "        text-align: right;\n",
       "    }\n",
       "</style>\n",
       "<table border=\"1\" class=\"dataframe\">\n",
       "  <thead>\n",
       "    <tr style=\"text-align: right;\">\n",
       "      <th></th>\n",
       "      <th>index</th>\n",
       "      <th>National Provider Identifier</th>\n",
       "      <th>Zip Code of the Provider</th>\n",
       "    </tr>\n",
       "  </thead>\n",
       "  <tbody>\n",
       "    <tr>\n",
       "      <th>count</th>\n",
       "      <td>1.000000e+05</td>\n",
       "      <td>1.000000e+05</td>\n",
       "      <td>1.000000e+05</td>\n",
       "    </tr>\n",
       "    <tr>\n",
       "      <th>mean</th>\n",
       "      <td>4.907646e+06</td>\n",
       "      <td>1.498227e+09</td>\n",
       "      <td>4.163820e+08</td>\n",
       "    </tr>\n",
       "    <tr>\n",
       "      <th>std</th>\n",
       "      <td>2.839633e+06</td>\n",
       "      <td>2.874125e+08</td>\n",
       "      <td>3.082566e+08</td>\n",
       "    </tr>\n",
       "    <tr>\n",
       "      <th>min</th>\n",
       "      <td>2.090000e+02</td>\n",
       "      <td>1.003001e+09</td>\n",
       "      <td>6.010000e+02</td>\n",
       "    </tr>\n",
       "    <tr>\n",
       "      <th>25%</th>\n",
       "      <td>2.458791e+06</td>\n",
       "      <td>1.245669e+09</td>\n",
       "      <td>1.426300e+08</td>\n",
       "    </tr>\n",
       "    <tr>\n",
       "      <th>50%</th>\n",
       "      <td>4.901266e+06</td>\n",
       "      <td>1.497847e+09</td>\n",
       "      <td>3.633025e+08</td>\n",
       "    </tr>\n",
       "    <tr>\n",
       "      <th>75%</th>\n",
       "      <td>7.349450e+06</td>\n",
       "      <td>1.740374e+09</td>\n",
       "      <td>6.819881e+08</td>\n",
       "    </tr>\n",
       "    <tr>\n",
       "      <th>max</th>\n",
       "      <td>9.847440e+06</td>\n",
       "      <td>1.993000e+09</td>\n",
       "      <td>9.990166e+08</td>\n",
       "    </tr>\n",
       "  </tbody>\n",
       "</table>\n",
       "</div>"
      ],
      "text/plain": [
       "              index  National Provider Identifier  Zip Code of the Provider\n",
       "count  1.000000e+05                  1.000000e+05              1.000000e+05\n",
       "mean   4.907646e+06                  1.498227e+09              4.163820e+08\n",
       "std    2.839633e+06                  2.874125e+08              3.082566e+08\n",
       "min    2.090000e+02                  1.003001e+09              6.010000e+02\n",
       "25%    2.458791e+06                  1.245669e+09              1.426300e+08\n",
       "50%    4.901266e+06                  1.497847e+09              3.633025e+08\n",
       "75%    7.349450e+06                  1.740374e+09              6.819881e+08\n",
       "max    9.847440e+06                  1.993000e+09              9.990166e+08"
      ]
     },
     "execution_count": 5,
     "metadata": {},
     "output_type": "execute_result"
    }
   ],
   "source": [
    "df.describe()"
   ]
  },
  {
   "cell_type": "code",
   "execution_count": 6,
   "id": "9d1960bd",
   "metadata": {},
   "outputs": [
    {
     "name": "stdout",
     "output_type": "stream",
     "text": [
      "<class 'pandas.core.frame.DataFrame'>\n",
      "RangeIndex: 100000 entries, 0 to 99999\n",
      "Data columns (total 27 columns):\n",
      " #   Column                                                    Non-Null Count   Dtype  \n",
      "---  ------                                                    --------------   -----  \n",
      " 0   index                                                     100000 non-null  int64  \n",
      " 1   National Provider Identifier                              100000 non-null  int64  \n",
      " 2   Last Name/Organization Name of the Provider               100000 non-null  object \n",
      " 3   First Name of the Provider                                95745 non-null   object \n",
      " 4   Middle Initial of the Provider                            70669 non-null   object \n",
      " 5   Credentials of the Provider                               92791 non-null   object \n",
      " 6   Gender of the Provider                                    95746 non-null   object \n",
      " 7   Entity Type of the Provider                               100000 non-null  object \n",
      " 8   Street Address 1 of the Provider                          100000 non-null  object \n",
      " 9   Street Address 2 of the Provider                          40637 non-null   object \n",
      " 10  City of the Provider                                      100000 non-null  object \n",
      " 11  Zip Code of the Provider                                  100000 non-null  float64\n",
      " 12  State Code of the Provider                                100000 non-null  object \n",
      " 13  Country Code of the Provider                              100000 non-null  object \n",
      " 14  Provider Type                                             100000 non-null  object \n",
      " 15  Medicare Participation Indicator                          100000 non-null  object \n",
      " 16  Place of Service                                          100000 non-null  object \n",
      " 17  HCPCS Code                                                100000 non-null  object \n",
      " 18  HCPCS Description                                         100000 non-null  object \n",
      " 19  HCPCS Drug Indicator                                      100000 non-null  object \n",
      " 20  Number of Services                                        100000 non-null  object \n",
      " 21  Number of Medicare Beneficiaries                          100000 non-null  object \n",
      " 22  Number of Distinct Medicare Beneficiary/Per Day Services  100000 non-null  object \n",
      " 23  Average Medicare Allowed Amount                           100000 non-null  object \n",
      " 24  Average Submitted Charge Amount                           100000 non-null  object \n",
      " 25  Average Medicare Payment Amount                           100000 non-null  object \n",
      " 26  Average Medicare Standardized Amount                      100000 non-null  object \n",
      "dtypes: float64(1), int64(2), object(24)\n",
      "memory usage: 20.6+ MB\n"
     ]
    }
   ],
   "source": [
    "df.info()"
   ]
  },
  {
   "cell_type": "code",
   "execution_count": 7,
   "id": "ec545041",
   "metadata": {},
   "outputs": [
    {
     "data": {
      "text/plain": [
       "index                                                           0\n",
       "National Provider Identifier                                    0\n",
       "Last Name/Organization Name of the Provider                     0\n",
       "First Name of the Provider                                   4255\n",
       "Middle Initial of the Provider                              29331\n",
       "Credentials of the Provider                                  7209\n",
       "Gender of the Provider                                       4254\n",
       "Entity Type of the Provider                                     0\n",
       "Street Address 1 of the Provider                                0\n",
       "Street Address 2 of the Provider                            59363\n",
       "City of the Provider                                            0\n",
       "Zip Code of the Provider                                        0\n",
       "State Code of the Provider                                      0\n",
       "Country Code of the Provider                                    0\n",
       "Provider Type                                                   0\n",
       "Medicare Participation Indicator                                0\n",
       "Place of Service                                                0\n",
       "HCPCS Code                                                      0\n",
       "HCPCS Description                                               0\n",
       "HCPCS Drug Indicator                                            0\n",
       "Number of Services                                              0\n",
       "Number of Medicare Beneficiaries                                0\n",
       "Number of Distinct Medicare Beneficiary/Per Day Services        0\n",
       "Average Medicare Allowed Amount                                 0\n",
       "Average Submitted Charge Amount                                 0\n",
       "Average Medicare Payment Amount                                 0\n",
       "Average Medicare Standardized Amount                            0\n",
       "dtype: int64"
      ]
     },
     "execution_count": 7,
     "metadata": {},
     "output_type": "execute_result"
    }
   ],
   "source": [
    "df.isnull().sum()"
   ]
  },
  {
   "cell_type": "code",
   "execution_count": 8,
   "id": "00f5210f",
   "metadata": {},
   "outputs": [
    {
     "data": {
      "text/html": [
       "<div>\n",
       "<style scoped>\n",
       "    .dataframe tbody tr th:only-of-type {\n",
       "        vertical-align: middle;\n",
       "    }\n",
       "\n",
       "    .dataframe tbody tr th {\n",
       "        vertical-align: top;\n",
       "    }\n",
       "\n",
       "    .dataframe thead th {\n",
       "        text-align: right;\n",
       "    }\n",
       "</style>\n",
       "<table border=\"1\" class=\"dataframe\">\n",
       "  <thead>\n",
       "    <tr style=\"text-align: right;\">\n",
       "      <th></th>\n",
       "      <th>index</th>\n",
       "      <th>National Provider Identifier</th>\n",
       "      <th>Last Name/Organization Name of the Provider</th>\n",
       "      <th>First Name of the Provider</th>\n",
       "      <th>Middle Initial of the Provider</th>\n",
       "      <th>Credentials of the Provider</th>\n",
       "      <th>Gender of the Provider</th>\n",
       "      <th>Entity Type of the Provider</th>\n",
       "      <th>Street Address 1 of the Provider</th>\n",
       "      <th>Street Address 2 of the Provider</th>\n",
       "      <th>...</th>\n",
       "      <th>HCPCS Code</th>\n",
       "      <th>HCPCS Description</th>\n",
       "      <th>HCPCS Drug Indicator</th>\n",
       "      <th>Number of Services</th>\n",
       "      <th>Number of Medicare Beneficiaries</th>\n",
       "      <th>Number of Distinct Medicare Beneficiary/Per Day Services</th>\n",
       "      <th>Average Medicare Allowed Amount</th>\n",
       "      <th>Average Submitted Charge Amount</th>\n",
       "      <th>Average Medicare Payment Amount</th>\n",
       "      <th>Average Medicare Standardized Amount</th>\n",
       "    </tr>\n",
       "  </thead>\n",
       "  <tbody>\n",
       "    <tr>\n",
       "      <th>0</th>\n",
       "      <td>8774979</td>\n",
       "      <td>1891106191</td>\n",
       "      <td>UPADHYAYULA</td>\n",
       "      <td>SATYASREE</td>\n",
       "      <td>NaN</td>\n",
       "      <td>M.D.</td>\n",
       "      <td>F</td>\n",
       "      <td>I</td>\n",
       "      <td>1402 S GRAND BLVD</td>\n",
       "      <td>FDT 14TH FLOOR</td>\n",
       "      <td>...</td>\n",
       "      <td>99223</td>\n",
       "      <td>Initial hospital inpatient care, typically 70 ...</td>\n",
       "      <td>N</td>\n",
       "      <td>27</td>\n",
       "      <td>24</td>\n",
       "      <td>27</td>\n",
       "      <td>200.58777778</td>\n",
       "      <td>305.21111111</td>\n",
       "      <td>157.26222222</td>\n",
       "      <td>160.90888889</td>\n",
       "    </tr>\n",
       "    <tr>\n",
       "      <th>1</th>\n",
       "      <td>3354385</td>\n",
       "      <td>1346202256</td>\n",
       "      <td>JONES</td>\n",
       "      <td>WENDY</td>\n",
       "      <td>P</td>\n",
       "      <td>M.D.</td>\n",
       "      <td>F</td>\n",
       "      <td>I</td>\n",
       "      <td>2950 VILLAGE DR</td>\n",
       "      <td>NaN</td>\n",
       "      <td>...</td>\n",
       "      <td>G0202</td>\n",
       "      <td>Screening mammography, bilateral (2-view study...</td>\n",
       "      <td>N</td>\n",
       "      <td>175</td>\n",
       "      <td>175</td>\n",
       "      <td>175</td>\n",
       "      <td>123.73</td>\n",
       "      <td>548.8</td>\n",
       "      <td>118.83</td>\n",
       "      <td>135.31525714</td>\n",
       "    </tr>\n",
       "    <tr>\n",
       "      <th>2</th>\n",
       "      <td>3001884</td>\n",
       "      <td>1306820956</td>\n",
       "      <td>DUROCHER</td>\n",
       "      <td>RICHARD</td>\n",
       "      <td>W</td>\n",
       "      <td>DPM</td>\n",
       "      <td>M</td>\n",
       "      <td>I</td>\n",
       "      <td>20 WASHINGTON AVE</td>\n",
       "      <td>STE 212</td>\n",
       "      <td>...</td>\n",
       "      <td>99348</td>\n",
       "      <td>Established patient home visit, typically 25 m...</td>\n",
       "      <td>N</td>\n",
       "      <td>32</td>\n",
       "      <td>13</td>\n",
       "      <td>32</td>\n",
       "      <td>90.65</td>\n",
       "      <td>155</td>\n",
       "      <td>64.4396875</td>\n",
       "      <td>60.5959375</td>\n",
       "    </tr>\n",
       "    <tr>\n",
       "      <th>3</th>\n",
       "      <td>7594822</td>\n",
       "      <td>1770523540</td>\n",
       "      <td>FULLARD</td>\n",
       "      <td>JASPER</td>\n",
       "      <td>NaN</td>\n",
       "      <td>MD</td>\n",
       "      <td>M</td>\n",
       "      <td>I</td>\n",
       "      <td>5746 N BROADWAY ST</td>\n",
       "      <td>NaN</td>\n",
       "      <td>...</td>\n",
       "      <td>81002</td>\n",
       "      <td>Urinalysis, manual test</td>\n",
       "      <td>N</td>\n",
       "      <td>20</td>\n",
       "      <td>18</td>\n",
       "      <td>20</td>\n",
       "      <td>3.5</td>\n",
       "      <td>5</td>\n",
       "      <td>3.43</td>\n",
       "      <td>3.43</td>\n",
       "    </tr>\n",
       "    <tr>\n",
       "      <th>4</th>\n",
       "      <td>746159</td>\n",
       "      <td>1073627758</td>\n",
       "      <td>PERROTTI</td>\n",
       "      <td>ANTHONY</td>\n",
       "      <td>E</td>\n",
       "      <td>DO</td>\n",
       "      <td>M</td>\n",
       "      <td>I</td>\n",
       "      <td>875 MILITARY TRL</td>\n",
       "      <td>SUITE 200</td>\n",
       "      <td>...</td>\n",
       "      <td>96372</td>\n",
       "      <td>Injection beneath the skin or into muscle for ...</td>\n",
       "      <td>N</td>\n",
       "      <td>33</td>\n",
       "      <td>24</td>\n",
       "      <td>31</td>\n",
       "      <td>26.52</td>\n",
       "      <td>40</td>\n",
       "      <td>19.539393939</td>\n",
       "      <td>19.057575758</td>\n",
       "    </tr>\n",
       "  </tbody>\n",
       "</table>\n",
       "<p>5 rows × 27 columns</p>\n",
       "</div>"
      ],
      "text/plain": [
       "     index  National Provider Identifier  \\\n",
       "0  8774979                    1891106191   \n",
       "1  3354385                    1346202256   \n",
       "2  3001884                    1306820956   \n",
       "3  7594822                    1770523540   \n",
       "4   746159                    1073627758   \n",
       "\n",
       "  Last Name/Organization Name of the Provider First Name of the Provider  \\\n",
       "0                                 UPADHYAYULA                  SATYASREE   \n",
       "1                                       JONES                      WENDY   \n",
       "2                                    DUROCHER                    RICHARD   \n",
       "3                                     FULLARD                     JASPER   \n",
       "4                                    PERROTTI                    ANTHONY   \n",
       "\n",
       "  Middle Initial of the Provider Credentials of the Provider  \\\n",
       "0                            NaN                        M.D.   \n",
       "1                              P                        M.D.   \n",
       "2                              W                         DPM   \n",
       "3                            NaN                          MD   \n",
       "4                              E                          DO   \n",
       "\n",
       "  Gender of the Provider Entity Type of the Provider  \\\n",
       "0                      F                           I   \n",
       "1                      F                           I   \n",
       "2                      M                           I   \n",
       "3                      M                           I   \n",
       "4                      M                           I   \n",
       "\n",
       "  Street Address 1 of the Provider Street Address 2 of the Provider  ...  \\\n",
       "0                1402 S GRAND BLVD                   FDT 14TH FLOOR  ...   \n",
       "1                  2950 VILLAGE DR                              NaN  ...   \n",
       "2                20 WASHINGTON AVE                          STE 212  ...   \n",
       "3               5746 N BROADWAY ST                              NaN  ...   \n",
       "4                 875 MILITARY TRL                        SUITE 200  ...   \n",
       "\n",
       "  HCPCS Code                                  HCPCS Description  \\\n",
       "0      99223  Initial hospital inpatient care, typically 70 ...   \n",
       "1      G0202  Screening mammography, bilateral (2-view study...   \n",
       "2      99348  Established patient home visit, typically 25 m...   \n",
       "3      81002                            Urinalysis, manual test   \n",
       "4      96372  Injection beneath the skin or into muscle for ...   \n",
       "\n",
       "  HCPCS Drug Indicator Number of Services Number of Medicare Beneficiaries  \\\n",
       "0                    N                 27                               24   \n",
       "1                    N                175                              175   \n",
       "2                    N                 32                               13   \n",
       "3                    N                 20                               18   \n",
       "4                    N                 33                               24   \n",
       "\n",
       "  Number of Distinct Medicare Beneficiary/Per Day Services  \\\n",
       "0                                                 27         \n",
       "1                                                175         \n",
       "2                                                 32         \n",
       "3                                                 20         \n",
       "4                                                 31         \n",
       "\n",
       "  Average Medicare Allowed Amount Average Submitted Charge Amount  \\\n",
       "0                    200.58777778                    305.21111111   \n",
       "1                          123.73                           548.8   \n",
       "2                           90.65                             155   \n",
       "3                             3.5                               5   \n",
       "4                           26.52                              40   \n",
       "\n",
       "  Average Medicare Payment Amount Average Medicare Standardized Amount  \n",
       "0                    157.26222222                         160.90888889  \n",
       "1                          118.83                         135.31525714  \n",
       "2                      64.4396875                           60.5959375  \n",
       "3                            3.43                                 3.43  \n",
       "4                    19.539393939                         19.057575758  \n",
       "\n",
       "[5 rows x 27 columns]"
      ]
     },
     "execution_count": 8,
     "metadata": {},
     "output_type": "execute_result"
    }
   ],
   "source": [
    "df.head()"
   ]
  },
  {
   "cell_type": "code",
   "execution_count": 30,
   "id": "50ad1f29",
   "metadata": {},
   "outputs": [],
   "source": [
    "Drop= ['index', 'National Provider Identifier',\n",
    "       'Last Name/Organization Name of the Provider',\n",
    "       'First Name of the Provider', 'Middle Initial of the Provider','Street Address 1 of the Provider',\n",
    "       'Street Address 2 of the Provider','Zip Code of the Provider',\"HCPCS Description\"]"
   ]
  },
  {
   "cell_type": "code",
   "execution_count": 12,
   "id": "2fdc33b9",
   "metadata": {},
   "outputs": [
    {
     "data": {
      "image/png": "[encoded data removed]",
      "text/plain": [
       "<Figure size 576x432 with 1 Axes>"
      ]
     },
     "metadata": {
      "needs_background": "light"
     },
     "output_type": "display_data"
    }
   ],
   "source": [
    "plt.figure(figsize=(8, 6))\n",
    "sns.histplot(df['Credentials of the Provider'], kde=True)\n",
    "plt.title('Credentials of the Provider')\n",
    "plt.xlabel('Credentials of the Provider')\n",
    "plt.ylabel('Frequency')\n",
    "plt.show()"
   ]
  },
  {
   "cell_type": "code",
   "execution_count": 13,
   "id": "df673602",
   "metadata": {},
   "outputs": [
    {
     "data": {
      "text/plain": [
       "MD                    32874\n",
       "M.D.                  32757\n",
       "D.O.                   3533\n",
       "DO                     2478\n",
       "PA-C                   1859\n",
       "                      ...  \n",
       "DPT MFS                   1\n",
       "PT, CERT. MDT, NCS        1\n",
       "MD FAAFP FACEP            1\n",
       "PT, DPT, MS               1\n",
       "PT,DPTATC                 1\n",
       "Name: Credentials of the Provider, Length: 1854, dtype: int64"
      ]
     },
     "execution_count": 13,
     "metadata": {},
     "output_type": "execute_result"
    }
   ],
   "source": [
    "df[\"Credentials of the Provider\"].value_counts()"
   ]
  },
  {
   "cell_type": "code",
   "execution_count": 17,
   "id": "474fa555",
   "metadata": {},
   "outputs": [
    {
     "data": {
      "image/png": "[encoded data removed]",
      "text/plain": [
       "<Figure size 576x432 with 1 Axes>"
      ]
     },
     "metadata": {
      "needs_background": "light"
     },
     "output_type": "display_data"
    }
   ],
   "source": [
    "plt.figure(figsize=(8, 6))\n",
    "sns.countplot(x='Gender of the Provider', data=df)\n",
    "plt.title('Gender of the Provider')\n",
    "plt.xlabel('Gender')\n",
    "plt.ylabel('Count')\n",
    "plt.show()"
   ]
  },
  {
   "cell_type": "code",
   "execution_count": 18,
   "id": "c7f9c179",
   "metadata": {},
   "outputs": [
    {
     "data": {
      "text/plain": [
       "I    95746\n",
       "O     4254\n",
       "Name: Entity Type of the Provider, dtype: int64"
      ]
     },
     "execution_count": 18,
     "metadata": {},
     "output_type": "execute_result"
    }
   ],
   "source": [
    "df[\"Entity Type of the Provider\"].value_counts()"
   ]
  },
  {
   "cell_type": "code",
   "execution_count": 19,
   "id": "5bdd409e",
   "metadata": {},
   "outputs": [
    {
     "data": {
      "image/png": "[encoded data removed]",
      "text/plain": [
       "<Figure size 576x432 with 1 Axes>"
      ]
     },
     "metadata": {
      "needs_background": "light"
     },
     "output_type": "display_data"
    }
   ],
   "source": [
    "plt.figure(figsize=(8, 6))\n",
    "sns.countplot(x='Entity Type of the Provider', data=df)\n",
    "plt.title('Entity Type of the Provider')\n",
    "plt.xlabel('entity')\n",
    "plt.ylabel('Count')\n",
    "plt.show()"
   ]
  },
  {
   "cell_type": "code",
   "execution_count": 20,
   "id": "d90e6abf",
   "metadata": {},
   "outputs": [
    {
     "data": {
      "image/png": "[encoded data removed]",
      "text/plain": [
       "<Figure size 576x432 with 1 Axes>"
      ]
     },
     "metadata": {
      "needs_background": "light"
     },
     "output_type": "display_data"
    }
   ],
   "source": [
    "plt.figure(figsize=(8, 6))\n",
    "sns.histplot(df['HCPCS Code'], kde=True)\n",
    "plt.title('HCPCS Code')\n",
    "plt.xlabel('HCPCS Code')\n",
    "plt.ylabel('Frequency')\n",
    "plt.show()"
   ]
  },
  {
   "cell_type": "code",
   "execution_count": 21,
   "id": "d80674fb",
   "metadata": {},
   "outputs": [
    {
     "data": {
      "text/plain": [
       "N    93802\n",
       "Y     6198\n",
       "Name: HCPCS Drug Indicator, dtype: int64"
      ]
     },
     "execution_count": 21,
     "metadata": {},
     "output_type": "execute_result"
    }
   ],
   "source": [
    "df[\"HCPCS Drug Indicator\"].value_counts()"
   ]
  },
  {
   "cell_type": "code",
   "execution_count": 22,
   "id": "01188cba",
   "metadata": {},
   "outputs": [
    {
     "data": {
      "image/png": "[encoded data removed]",
      "text/plain": [
       "<Figure size 576x432 with 1 Axes>"
      ]
     },
     "metadata": {
      "needs_background": "light"
     },
     "output_type": "display_data"
    }
   ],
   "source": [
    "plt.figure(figsize=(8, 6))\n",
    "sns.countplot(x='HCPCS Drug Indicator', data=df)\n",
    "plt.title('HCPCS Drug Indicator')\n",
    "plt.xlabel('entity')\n",
    "plt.ylabel('Count')\n",
    "plt.show()"
   ]
  },
  {
   "cell_type": "code",
   "execution_count": 23,
   "id": "045b0df4",
   "metadata": {},
   "outputs": [
    {
     "data": {
      "image/png": "[encoded data removed]",
      "text/plain": [
       "<Figure size 576x432 with 1 Axes>"
      ]
     },
     "metadata": {
      "needs_background": "light"
     },
     "output_type": "display_data"
    }
   ],
   "source": [
    "plt.figure(figsize=(8, 6))\n",
    "sns.histplot(df['Number of Services'], kde=True)\n",
    "plt.title('Number of Services')\n",
    "plt.xlabel('Services')\n",
    "plt.ylabel('Frequency')\n",
    "plt.show()"
   ]
  },
  {
   "cell_type": "code",
   "execution_count": 24,
   "id": "8ed6d115",
   "metadata": {},
   "outputs": [
    {
     "data": {
      "image/png": "[encoded data removed]",
      "text/plain": [
       "<Figure size 576x432 with 1 Axes>"
      ]
     },
     "metadata": {
      "needs_background": "light"
     },
     "output_type": "display_data"
    }
   ],
   "source": [
    "\n",
    "plt.figure(figsize=(8, 6))\n",
    "sns.histplot(df['Number of Medicare Beneficiaries'], kde=True)\n",
    "plt.title('Number of Medicare Beneficiaries')\n",
    "plt.xlabel('Medicare Beneficiaries')\n",
    "plt.ylabel('Frequency')\n",
    "plt.show()"
   ]
  },
  {
   "cell_type": "code",
   "execution_count": 31,
   "id": "d293ac6d",
   "metadata": {},
   "outputs": [
    {
     "data": {
      "image/png": "[encoded data removed]",
      "text/plain": [
       "<Figure size 576x432 with 1 Axes>"
      ]
     },
     "metadata": {
      "needs_background": "light"
     },
     "output_type": "display_data"
    }
   ],
   "source": [
    "plt.figure(figsize=(8, 6))\n",
    "sns.histplot(df['Average Medicare Allowed Amount'], kde=True)\n",
    "plt.title('Average Medicare Allowed Amount')\n",
    "plt.xlabel('medicare allowed Amount')\n",
    "plt.ylabel('Frequency')\n",
    "plt.show()"
   ]
  },
  {
   "cell_type": "code",
   "execution_count": 37,
   "id": "cd2caae3",
   "metadata": {},
   "outputs": [
    {
     "data": {
      "image/png": "[encoded data removed]",
      "text/plain": [
       "<Figure size 576x432 with 2 Axes>"
      ]
     },
     "metadata": {
      "needs_background": "light"
     },
     "output_type": "display_data"
    }
   ],
   "source": [
    "plt.figure(figsize=(8, 6))\n",
    "correlation_matrix = df.corr()\n",
    "sns.heatmap(correlation_matrix, annot=True, cmap='coolwarm')\n",
    "plt.title('Correlation Matrix Heatmap')\n",
    "plt.show()"
   ]
  },
  {
   "cell_type": "code",
   "execution_count": null,
   "id": "b7ac5666",
   "metadata": {},
   "outputs": [],
   "source": []
  }
 ],
 "metadata": {
  "kernelspec": {
   "display_name": "Python 3 (ipykernel)",
   "language": "python",
   "name": "python3"
  },
  "language_info": {
   "codemirror_mode": {
    "name": "ipython",
    "version": 3
   },
   "file_extension": ".py",
   "mimetype": "text/x-python",
   "name": "python",
   "nbconvert_exporter": "python",
   "pygments_lexer": "ipython3",
   "version": "3.9.12"
  }
 },
 "nbformat": 4,
 "nbformat_minor": 5
}
